{
 "cells": [
  {
   "cell_type": "markdown",
   "metadata": {},
   "source": [
    "# Regression\n",
    "\n",
    "### What is regression?\n",
    "\n",
    "Regression is a type of supervised learning in machine learning. Given a training set of data containing observations and thier associated continuous outputs, the goal of regression is to explore the relationsips between the observations(features) and the targets, and to output a continuous values based on the input features of an unknown sample."
   ]
  },
  {
   "cell_type": "markdown",
   "metadata": {},
   "source": [
    "# Codes by Requirements"
   ]
  },
  {
   "cell_type": "markdown",
   "metadata": {},
   "source": [
    "# Importing the dataset\n",
    "\n",
    "```dataset = pd.read_csv('Data.csv')\n",
    "X = dataset.iloc[:, :-1].values\n",
    "y = dataset.iloc[:, 3].values```"
   ]
  },
  {
   "cell_type": "markdown",
   "metadata": {},
   "source": [
    "* loc works on labels in the index.\n",
    "* iloc works on the positions in the index (so it only takes integers).\n",
    "\n",
    "```\n",
    "s.iloc[:3] # slice the first three rows\n",
    "49   NaN\n",
    "48   NaN\n",
    "47   NaN\n",
    "\n",
    "s.loc[:3] # slice up to and including label 3\n",
    "49   NaN\n",
    "48   NaN\n",
    "47   NaN\n",
    "46   NaN\n",
    "45   NaN\n",
    "1    NaN\n",
    "2    NaN\n",
    "3    NaN\n",
    "```\n",
    "\n",
    "Read Url: https://stackoverflow.com/questions/31593201/pandas-iloc-vs-ix-vs-loc-explanation\n",
    "\n"
   ]
  },
  {
   "cell_type": "markdown",
   "metadata": {},
   "source": [
    "# Splitting the dataset into the Training set and Test set\n",
    "\n",
    "```from sklearn.cross_validation import train_test_split\n",
    "X_train, X_test, y_train, y_test = train_test_split(X, y, test_size = 0.2, random_state = 0)```"
   ]
  },
  {
   "cell_type": "markdown",
   "metadata": {},
   "source": [
    "# Creating a Regressor"
   ]
  },
  {
   "cell_type": "markdown",
   "metadata": {},
   "source": [
    "### Fitting Simple Linear Regression to the Training set\n",
    "```from sklearn.linear_model import LinearRegression\n",
    "regressor = LinearRegression()\n",
    "regressor.fit(X_train, y_train)```\n",
    "\n",
    "### Predicting the Test set results\n",
    "```y_pred = regressor.predict(X_test)```"
   ]
  }
 ],
 "metadata": {
  "kernelspec": {
   "display_name": "Python 2",
   "language": "python",
   "name": "python2"
  },
  "language_info": {
   "codemirror_mode": {
    "name": "ipython",
    "version": 2
   },
   "file_extension": ".py",
   "mimetype": "text/x-python",
   "name": "python",
   "nbconvert_exporter": "python",
   "pygments_lexer": "ipython2",
   "version": "2.7.10"
  }
 },
 "nbformat": 4,
 "nbformat_minor": 2
}
