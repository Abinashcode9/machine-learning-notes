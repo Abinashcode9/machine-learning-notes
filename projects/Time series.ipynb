{
 "cells": [
  {
   "cell_type": "code",
   "execution_count": 1,
   "metadata": {},
   "outputs": [],
   "source": [
    "import numpy as np\n",
    "import pandas as pd\n",
    "import matplotlib.pyplot as plt\n",
    "import datetime\n",
    "%matplotlib inline"
   ]
  },
  {
   "cell_type": "code",
   "execution_count": 2,
   "metadata": {},
   "outputs": [],
   "source": [
    "data=np.array([[1, 1226800], [2, 926891], [3, 782725], [4, 1023038], [5, 1126293], [6, 692565], [7, 1165880], [8, 1207156], [9, 1129954], [10, 745100], [11, 1059346], [12, 1168555], [13, 1317458], [14, 528045], [15, 1220238], [16, 874557], [17, 1033389], [18, 1034165], [19, 812094], [20, 1351419], [21, 801822], [22, 1044266], [23, 722871], [24, 742100], [25, 839471], [26, 1201199], [27, 796265], [28, 953887], [29, 1124602], [30, 1070181], [31, 1160366], [32, 1131150], [33, 1151813], [34, 1065316], [35, 914800], [36, 1093034], [37, 937898], [38, 991612], [39, 865649], [40, 990565], [41, 965414], [42, 949248], [43, 1168905], [44, 593112], [45, 1156922], [46, 870095], [47, 1023262], [48, 788327], [49, 543605], [50, 510786], [51, 734714], [52, 1133025], [53, 1461091], [54, 635481], [55, 1104107], [56, 844960], [57, 1271967], [58, 574319], [59, 1063900], [60, 724737]])"
   ]
  },
  {
   "cell_type": "code",
   "execution_count": 105,
   "metadata": {},
   "outputs": [],
   "source": [
    "df=pd.DataFrame(data=data[:,1])"
   ]
  },
  {
   "cell_type": "code",
   "execution_count": 114,
   "metadata": {},
   "outputs": [],
   "source": [
    "df['date']=pd.to_datetime(pd.date_range('2011-01', periods=60, freq='M'))"
   ]
  },
  {
   "cell_type": "code",
   "execution_count": 106,
   "metadata": {},
   "outputs": [
    {
     "data": {
      "text/html": [
       "<div>\n",
       "<table border=\"1\" class=\"dataframe\">\n",
       "  <thead>\n",
       "    <tr style=\"text-align: right;\">\n",
       "      <th></th>\n",
       "      <th>0</th>\n",
       "    </tr>\n",
       "  </thead>\n",
       "  <tbody>\n",
       "    <tr>\n",
       "      <th>0</th>\n",
       "      <td>1226800</td>\n",
       "    </tr>\n",
       "    <tr>\n",
       "      <th>1</th>\n",
       "      <td>926891</td>\n",
       "    </tr>\n",
       "    <tr>\n",
       "      <th>2</th>\n",
       "      <td>782725</td>\n",
       "    </tr>\n",
       "    <tr>\n",
       "      <th>3</th>\n",
       "      <td>1023038</td>\n",
       "    </tr>\n",
       "    <tr>\n",
       "      <th>4</th>\n",
       "      <td>1126293</td>\n",
       "    </tr>\n",
       "  </tbody>\n",
       "</table>\n",
       "</div>"
      ],
      "text/plain": [
       "         0\n",
       "0  1226800\n",
       "1   926891\n",
       "2   782725\n",
       "3  1023038\n",
       "4  1126293"
      ]
     },
     "execution_count": 106,
     "metadata": {},
     "output_type": "execute_result"
    }
   ],
   "source": [
    "df.head()"
   ]
  },
  {
   "cell_type": "code",
   "execution_count": 6,
   "metadata": {},
   "outputs": [],
   "source": [
    "del df[0]"
   ]
  },
  {
   "cell_type": "code",
   "execution_count": 96,
   "metadata": {},
   "outputs": [],
   "source": [
    "df=df.set_index('date')"
   ]
  },
  {
   "cell_type": "code",
   "execution_count": 97,
   "metadata": {},
   "outputs": [
    {
     "data": {
      "text/html": [
       "<div>\n",
       "<table border=\"1\" class=\"dataframe\">\n",
       "  <thead>\n",
       "    <tr style=\"text-align: right;\">\n",
       "      <th></th>\n",
       "      <th>1</th>\n",
       "    </tr>\n",
       "    <tr>\n",
       "      <th>date</th>\n",
       "      <th></th>\n",
       "    </tr>\n",
       "  </thead>\n",
       "  <tbody>\n",
       "    <tr>\n",
       "      <th>2011-01-31</th>\n",
       "      <td>1226800</td>\n",
       "    </tr>\n",
       "    <tr>\n",
       "      <th>2011-02-28</th>\n",
       "      <td>926891</td>\n",
       "    </tr>\n",
       "    <tr>\n",
       "      <th>2011-03-31</th>\n",
       "      <td>782725</td>\n",
       "    </tr>\n",
       "    <tr>\n",
       "      <th>2011-04-30</th>\n",
       "      <td>1023038</td>\n",
       "    </tr>\n",
       "    <tr>\n",
       "      <th>2011-05-31</th>\n",
       "      <td>1126293</td>\n",
       "    </tr>\n",
       "  </tbody>\n",
       "</table>\n",
       "</div>"
      ],
      "text/plain": [
       "                  1\n",
       "date               \n",
       "2011-01-31  1226800\n",
       "2011-02-28   926891\n",
       "2011-03-31   782725\n",
       "2011-04-30  1023038\n",
       "2011-05-31  1126293"
      ]
     },
     "execution_count": 97,
     "metadata": {},
     "output_type": "execute_result"
    }
   ],
   "source": [
    "df.head()"
   ]
  },
  {
   "cell_type": "code",
   "execution_count": 7,
   "metadata": {},
   "outputs": [],
   "source": [
    "from statsmodels.tsa.arima_model import ARIMA\n",
    "from sklearn.metrics import mean_squared_error"
   ]
  },
  {
   "cell_type": "code",
   "execution_count": 18,
   "metadata": {},
   "outputs": [],
   "source": [
    "seriesDf = df[:]"
   ]
  },
  {
   "cell_type": "code",
   "execution_count": 46,
   "metadata": {},
   "outputs": [
    {
     "data": {
      "text/html": [
       "<div>\n",
       "<table border=\"1\" class=\"dataframe\">\n",
       "  <thead>\n",
       "    <tr style=\"text-align: right;\">\n",
       "      <th></th>\n",
       "      <th>1</th>\n",
       "      <th>date</th>\n",
       "    </tr>\n",
       "  </thead>\n",
       "  <tbody>\n",
       "    <tr>\n",
       "      <th>55</th>\n",
       "      <td>844960</td>\n",
       "      <td>2015-08-31</td>\n",
       "    </tr>\n",
       "    <tr>\n",
       "      <th>56</th>\n",
       "      <td>1271967</td>\n",
       "      <td>2015-09-30</td>\n",
       "    </tr>\n",
       "    <tr>\n",
       "      <th>57</th>\n",
       "      <td>574319</td>\n",
       "      <td>2015-10-31</td>\n",
       "    </tr>\n",
       "    <tr>\n",
       "      <th>58</th>\n",
       "      <td>1063900</td>\n",
       "      <td>2015-11-30</td>\n",
       "    </tr>\n",
       "    <tr>\n",
       "      <th>59</th>\n",
       "      <td>724737</td>\n",
       "      <td>2015-12-31</td>\n",
       "    </tr>\n",
       "  </tbody>\n",
       "</table>\n",
       "</div>"
      ],
      "text/plain": [
       "          1       date\n",
       "55   844960 2015-08-31\n",
       "56  1271967 2015-09-30\n",
       "57   574319 2015-10-31\n",
       "58  1063900 2015-11-30\n",
       "59   724737 2015-12-31"
      ]
     },
     "execution_count": 46,
     "metadata": {},
     "output_type": "execute_result"
    }
   ],
   "source": [
    "seriesDf.tail()"
   ]
  },
  {
   "cell_type": "code",
   "execution_count": 20,
   "metadata": {},
   "outputs": [],
   "source": [
    "seriesDf=seriesDf.reset_index()"
   ]
  },
  {
   "cell_type": "code",
   "execution_count": 21,
   "metadata": {},
   "outputs": [
    {
     "data": {
      "text/html": [
       "<div>\n",
       "<table border=\"1\" class=\"dataframe\">\n",
       "  <thead>\n",
       "    <tr style=\"text-align: right;\">\n",
       "      <th></th>\n",
       "      <th>index</th>\n",
       "      <th>1</th>\n",
       "      <th>date</th>\n",
       "    </tr>\n",
       "  </thead>\n",
       "  <tbody>\n",
       "    <tr>\n",
       "      <th>0</th>\n",
       "      <td>0</td>\n",
       "      <td>1226800</td>\n",
       "      <td>2011-01-31</td>\n",
       "    </tr>\n",
       "    <tr>\n",
       "      <th>1</th>\n",
       "      <td>1</td>\n",
       "      <td>926891</td>\n",
       "      <td>2011-02-28</td>\n",
       "    </tr>\n",
       "    <tr>\n",
       "      <th>2</th>\n",
       "      <td>2</td>\n",
       "      <td>782725</td>\n",
       "      <td>2011-03-31</td>\n",
       "    </tr>\n",
       "    <tr>\n",
       "      <th>3</th>\n",
       "      <td>3</td>\n",
       "      <td>1023038</td>\n",
       "      <td>2011-04-30</td>\n",
       "    </tr>\n",
       "    <tr>\n",
       "      <th>4</th>\n",
       "      <td>4</td>\n",
       "      <td>1126293</td>\n",
       "      <td>2011-05-31</td>\n",
       "    </tr>\n",
       "  </tbody>\n",
       "</table>\n",
       "</div>"
      ],
      "text/plain": [
       "   index        1       date\n",
       "0      0  1226800 2011-01-31\n",
       "1      1   926891 2011-02-28\n",
       "2      2   782725 2011-03-31\n",
       "3      3  1023038 2011-04-30\n",
       "4      4  1126293 2011-05-31"
      ]
     },
     "execution_count": 21,
     "metadata": {},
     "output_type": "execute_result"
    }
   ],
   "source": [
    "seriesDf.head()"
   ]
  },
  {
   "cell_type": "code",
   "execution_count": 25,
   "metadata": {},
   "outputs": [],
   "source": [
    "del seriesDf['index']"
   ]
  },
  {
   "cell_type": "code",
   "execution_count": 26,
   "metadata": {},
   "outputs": [],
   "source": [
    "countSeries = seriesDf.groupby(['date']).sum()"
   ]
  },
  {
   "cell_type": "code",
   "execution_count": 27,
   "metadata": {},
   "outputs": [
    {
     "data": {
      "text/html": [
       "<div>\n",
       "<table border=\"1\" class=\"dataframe\">\n",
       "  <thead>\n",
       "    <tr style=\"text-align: right;\">\n",
       "      <th></th>\n",
       "      <th>1</th>\n",
       "    </tr>\n",
       "    <tr>\n",
       "      <th>date</th>\n",
       "      <th></th>\n",
       "    </tr>\n",
       "  </thead>\n",
       "  <tbody>\n",
       "    <tr>\n",
       "      <th>2011-01-31</th>\n",
       "      <td>1226800</td>\n",
       "    </tr>\n",
       "    <tr>\n",
       "      <th>2011-02-28</th>\n",
       "      <td>926891</td>\n",
       "    </tr>\n",
       "    <tr>\n",
       "      <th>2011-03-31</th>\n",
       "      <td>782725</td>\n",
       "    </tr>\n",
       "    <tr>\n",
       "      <th>2011-04-30</th>\n",
       "      <td>1023038</td>\n",
       "    </tr>\n",
       "    <tr>\n",
       "      <th>2011-05-31</th>\n",
       "      <td>1126293</td>\n",
       "    </tr>\n",
       "  </tbody>\n",
       "</table>\n",
       "</div>"
      ],
      "text/plain": [
       "                  1\n",
       "date               \n",
       "2011-01-31  1226800\n",
       "2011-02-28   926891\n",
       "2011-03-31   782725\n",
       "2011-04-30  1023038\n",
       "2011-05-31  1126293"
      ]
     },
     "execution_count": 27,
     "metadata": {},
     "output_type": "execute_result"
    }
   ],
   "source": [
    "countSeries.head()"
   ]
  },
  {
   "cell_type": "code",
   "execution_count": 98,
   "metadata": {},
   "outputs": [],
   "source": [
    "series = df.iloc[:, 0]"
   ]
  },
  {
   "cell_type": "code",
   "execution_count": 31,
   "metadata": {},
   "outputs": [],
   "source": [
    "a=series[:]"
   ]
  },
  {
   "cell_type": "code",
   "execution_count": 99,
   "metadata": {},
   "outputs": [],
   "source": [
    "series=series.apply(float)"
   ]
  },
  {
   "cell_type": "code",
   "execution_count": 100,
   "metadata": {},
   "outputs": [
    {
     "data": {
      "text/plain": [
       "date\n",
       "2011-01-31    1226800.0\n",
       "2011-02-28     926891.0\n",
       "2011-03-31     782725.0\n",
       "2011-04-30    1023038.0\n",
       "2011-05-31    1126293.0\n",
       "2011-06-30     692565.0\n",
       "2011-07-31    1165880.0\n",
       "2011-08-31    1207156.0\n",
       "2011-09-30    1129954.0\n",
       "2011-10-31     745100.0\n",
       "2011-11-30    1059346.0\n",
       "2011-12-31    1168555.0\n",
       "2012-01-31    1317458.0\n",
       "2012-02-29     528045.0\n",
       "2012-03-31    1220238.0\n",
       "2012-04-30     874557.0\n",
       "2012-05-31    1033389.0\n",
       "2012-06-30    1034165.0\n",
       "2012-07-31     812094.0\n",
       "2012-08-31    1351419.0\n",
       "2012-09-30     801822.0\n",
       "2012-10-31    1044266.0\n",
       "2012-11-30     722871.0\n",
       "2012-12-31     742100.0\n",
       "2013-01-31     839471.0\n",
       "2013-02-28    1201199.0\n",
       "2013-03-31     796265.0\n",
       "2013-04-30     953887.0\n",
       "2013-05-31    1124602.0\n",
       "2013-06-30    1070181.0\n",
       "2013-07-31    1160366.0\n",
       "2013-08-31    1131150.0\n",
       "2013-09-30    1151813.0\n",
       "2013-10-31    1065316.0\n",
       "2013-11-30     914800.0\n",
       "2013-12-31    1093034.0\n",
       "2014-01-31     937898.0\n",
       "2014-02-28     991612.0\n",
       "2014-03-31     865649.0\n",
       "2014-04-30     990565.0\n",
       "2014-05-31     965414.0\n",
       "2014-06-30     949248.0\n",
       "2014-07-31    1168905.0\n",
       "2014-08-31     593112.0\n",
       "2014-09-30    1156922.0\n",
       "2014-10-31     870095.0\n",
       "2014-11-30    1023262.0\n",
       "2014-12-31     788327.0\n",
       "2015-01-31     543605.0\n",
       "2015-02-28     510786.0\n",
       "2015-03-31     734714.0\n",
       "2015-04-30    1133025.0\n",
       "2015-05-31    1461091.0\n",
       "2015-06-30     635481.0\n",
       "2015-07-31    1104107.0\n",
       "2015-08-31     844960.0\n",
       "2015-09-30    1271967.0\n",
       "2015-10-31     574319.0\n",
       "2015-11-30    1063900.0\n",
       "2015-12-31     724737.0\n",
       "Name: 1, dtype: float64"
      ]
     },
     "execution_count": 100,
     "metadata": {},
     "output_type": "execute_result"
    }
   ],
   "source": [
    "series"
   ]
  },
  {
   "cell_type": "code",
   "execution_count": 101,
   "metadata": {},
   "outputs": [
    {
     "data": {
      "text/plain": [
       "<matplotlib.axes.AxesSubplot at 0x1126a2110>"
      ]
     },
     "execution_count": 101,
     "metadata": {},
     "output_type": "execute_result"
    },
    {
     "data": {
      "image/png": "[encoded data removed]",
      "text/plain": [
       "<matplotlib.figure.Figure at 0x11265f490>"
      ]
     },
     "metadata": {},
     "output_type": "display_data"
    }
   ],
   "source": [
    "series.plot()"
   ]
  },
  {
   "cell_type": "code",
   "execution_count": 48,
   "metadata": {},
   "outputs": [
    {
     "data": {
      "text/plain": [
       "<matplotlib.axes.AxesSubplot at 0x1121d0a90>"
      ]
     },
     "execution_count": 48,
     "metadata": {},
     "output_type": "execute_result"
    },
    {
     "data": {
      "image/png": "[encoded data removed]",
      "text/plain": [
       "<matplotlib.figure.Figure at 0x112206650>"
      ]
     },
     "metadata": {},
     "output_type": "display_data"
    }
   ],
   "source": [
    "from pandas.tools.plotting import autocorrelation_plot\n",
    "autocorrelation_plot(series)"
   ]
  },
  {
   "cell_type": "code",
   "execution_count": 49,
   "metadata": {},
   "outputs": [],
   "source": [
    "from statsmodels.tsa.arima_model import ARIMA\n",
    "from pandas import datetime"
   ]
  },
  {
   "cell_type": "code",
   "execution_count": 102,
   "metadata": {},
   "outputs": [],
   "source": [
    "model = ARIMA(series, order=(8,0,1))"
   ]
  },
  {
   "cell_type": "code",
   "execution_count": 103,
   "metadata": {},
   "outputs": [],
   "source": [
    "model_fit = model.fit()"
   ]
  },
  {
   "cell_type": "code",
   "execution_count": 104,
   "metadata": {},
   "outputs": [
    {
     "name": "stdout",
     "output_type": "stream",
     "text": [
      "                              ARMA Model Results                              \n",
      "==============================================================================\n",
      "Dep. Variable:                      1   No. Observations:                   60\n",
      "Model:                     ARMA(8, 1)   Log Likelihood                -818.821\n",
      "Method:                       css-mle   S.D. of innovations         203507.013\n",
      "Date:                Thu, 07 Dec 2017   AIC                           1659.642\n",
      "Time:                        08:10:43   BIC                           1682.680\n",
      "Sample:                    01-31-2011   HQIC                          1668.653\n",
      "                         - 12-31-2015                                         \n",
      "==============================================================================\n",
      "                 coef    std err          z      P>|z|      [0.025      0.975]\n",
      "------------------------------------------------------------------------------\n",
      "const        9.69e+05   2.38e+04     40.762      0.000    9.22e+05    1.02e+06\n",
      "ar.L1.1       -0.7381      0.592     -1.246      0.218      -1.899       0.423\n",
      "ar.L2.1        0.0402      0.183      0.220      0.827      -0.318       0.399\n",
      "ar.L3.1       -0.1186      0.176     -0.672      0.505      -0.465       0.227\n",
      "ar.L4.1        0.0316      0.186      0.170      0.866      -0.333       0.396\n",
      "ar.L5.1        0.1242      0.175      0.710      0.481      -0.219       0.467\n",
      "ar.L6.1       -0.1437      0.161     -0.893      0.376      -0.459       0.172\n",
      "ar.L7.1       -0.0926      0.182     -0.510      0.612      -0.449       0.264\n",
      "ar.L8.1        0.0943      0.153      0.618      0.539      -0.205       0.393\n",
      "ma.L1.1        0.6204      0.584      1.062      0.293      -0.525       1.765\n",
      "                                    Roots                                    \n",
      "=============================================================================\n",
      "                 Real           Imaginary           Modulus         Frequency\n",
      "-----------------------------------------------------------------------------\n",
      "AR.1           -1.1041           -0.0000j            1.1041           -0.5000\n",
      "AR.2           -1.0618           -0.6162j            1.2277           -0.4163\n",
      "AR.3           -1.0618           +0.6162j            1.2277            0.4163\n",
      "AR.4            0.0072           -1.2253j            1.2253           -0.2491\n",
      "AR.5            0.0072           +1.2253j            1.2253            0.2491\n",
      "AR.6            1.1847           -0.9594j            1.5245           -0.1083\n",
      "AR.7            1.1847           +0.9594j            1.5245            0.1083\n",
      "AR.8            1.8266           -0.0000j            1.8266           -0.0000\n",
      "MA.1           -1.6119           +0.0000j            1.6119            0.5000\n",
      "-----------------------------------------------------------------------------\n"
     ]
    },
    {
     "data": {
      "image/png": "[encoded data removed]",
      "text/plain": [
       "<matplotlib.figure.Figure at 0x1125a2390>"
      ]
     },
     "metadata": {},
     "output_type": "display_data"
    },
    {
     "data": {
      "image/png": "[encoded data removed]",
      "text/plain": [
       "<matplotlib.figure.Figure at 0x11259c6d0>"
      ]
     },
     "metadata": {},
     "output_type": "display_data"
    },
    {
     "name": "stdout",
     "output_type": "stream",
     "text": [
      "                   0\n",
      "count      60.000000\n",
      "mean     1676.192188\n",
      "std    206103.595529\n",
      "min   -534871.483195\n",
      "25%   -138381.273617\n",
      "50%     -1815.690745\n",
      "75%    159183.195062\n",
      "max    486537.376592\n"
     ]
    }
   ],
   "source": [
    "print(model_fit.summary())\n",
    "# plot residual errors\n",
    "residuals = pd.DataFrame(model_fit.resid)\n",
    "residuals.plot()\n",
    "plt.show()\n",
    "residuals.plot(kind='kde')\n",
    "plt.show()\n",
    "print(residuals.describe())"
   ]
  },
  {
   "cell_type": "code",
   "execution_count": 78,
   "metadata": {},
   "outputs": [],
   "source": [
    "X = a.values\n",
    "size = int(len(X) * 0.66)\n",
    "train, test = X[0:size], X[size:len(X)]\n",
    "history = [x for x in train]\n",
    "predictions = list()"
   ]
  },
  {
   "cell_type": "code",
   "execution_count": 79,
   "metadata": {},
   "outputs": [
    {
     "name": "stdout",
     "output_type": "stream",
     "text": [
      "predicted=1008602.581732, expected=990565.000000\n",
      "predicted=956912.079599, expected=965414.000000\n",
      "predicted=933153.986231, expected=949248.000000\n",
      "predicted=931540.524641, expected=1168905.000000\n",
      "predicted=938080.111375, expected=593112.000000\n",
      "predicted=1062423.149879, expected=1156922.000000\n",
      "predicted=890006.295548, expected=870095.000000\n",
      "predicted=1003534.579660, expected=1023262.000000\n",
      "predicted=859821.857006, expected=788327.000000\n"
     ]
    },
    {
     "name": "stderr",
     "output_type": "stream",
     "text": [
      "/Library/Python/2.7/site-packages/statsmodels/base/model.py:496: ConvergenceWarning: Maximum Likelihood optimization failed to converge. Check mle_retvals\n",
      "  \"Check mle_retvals\", ConvergenceWarning)\n"
     ]
    },
    {
     "name": "stdout",
     "output_type": "stream",
     "text": [
      "predicted=961095.777343, expected=543605.000000\n",
      "predicted=1043114.357867, expected=510786.000000\n",
      "predicted=777025.349222, expected=734714.000000\n",
      "predicted=667590.931102, expected=1133025.000000\n",
      "predicted=604947.027137, expected=1461091.000000\n"
     ]
    },
    {
     "name": "stderr",
     "output_type": "stream",
     "text": [
      "/Library/Python/2.7/site-packages/statsmodels/base/model.py:496: ConvergenceWarning: Maximum Likelihood optimization failed to converge. Check mle_retvals\n",
      "  \"Check mle_retvals\", ConvergenceWarning)\n"
     ]
    },
    {
     "name": "stdout",
     "output_type": "stream",
     "text": [
      "predicted=825047.393793, expected=635481.000000\n",
      "predicted=785937.898331, expected=1104107.000000\n",
      "predicted=902760.615060, expected=844960.000000\n",
      "predicted=1137957.152951, expected=1271967.000000\n",
      "predicted=1008402.376879, expected=574319.000000\n",
      "predicted=1008810.597796, expected=1063900.000000\n",
      "predicted=845230.652960, expected=724737.000000\n",
      "Test MSE: 93540517380.933\n"
     ]
    },
    {
     "data": {
      "image/png": "[encoded data removed]",
      "text/plain": [
       "<matplotlib.figure.Figure at 0x1120a2f10>"
      ]
     },
     "metadata": {},
     "output_type": "display_data"
    }
   ],
   "source": [
    "for t in range(len(test)):\n",
    "    model = ARIMA(history, order=(5,1,0))\n",
    "    model_fit = model.fit(disp=0)\n",
    "    output = model_fit.forecast()\n",
    "    yhat = output[0]\n",
    "    predictions.append(yhat)\n",
    "    obs = test[t]\n",
    "    history.append(obs)\n",
    "    print('predicted=%f, expected=%f' % (yhat, obs))\n",
    "error = mean_squared_error(test, predictions)\n",
    "print('Test MSE: %.3f' % error)\n",
    "# plot\n",
    "plt.plot(test)\n",
    "plt.plot(predictions, color='red')\n",
    "plt.show()"
   ]
  },
  {
   "cell_type": "code",
   "execution_count": 85,
   "metadata": {},
   "outputs": [
    {
     "data": {
      "text/plain": [
       "array([  990565.,   965414.,   949248.,  1168905.,   593112.,  1156922.,\n",
       "         870095.,  1023262.,   788327.,   543605.,   510786.,   734714.,\n",
       "        1133025.,  1461091.,   635481.,  1104107.,   844960.,  1271967.,\n",
       "         574319.,  1063900.,   724737.])"
      ]
     },
     "execution_count": 85,
     "metadata": {},
     "output_type": "execute_result"
    }
   ],
   "source": [
    "X[size:len(X)]"
   ]
  },
  {
   "cell_type": "code",
   "execution_count": 83,
   "metadata": {},
   "outputs": [],
   "source": [
    "test=pd.to_datetime(pd.date_range('2016-01', periods=12, freq='M'))"
   ]
  },
  {
   "cell_type": "code",
   "execution_count": 88,
   "metadata": {},
   "outputs": [
    {
     "data": {
      "text/plain": [
       "DatetimeIndex(['2016-01-31', '2016-02-29', '2016-03-31', '2016-04-30',\n",
       "               '2016-05-31', '2016-06-30', '2016-07-31', '2016-08-31',\n",
       "               '2016-09-30', '2016-10-31', '2016-11-30', '2016-12-31'],\n",
       "              dtype='datetime64[ns]', freq='M')"
      ]
     },
     "execution_count": 88,
     "metadata": {},
     "output_type": "execute_result"
    }
   ],
   "source": [
    "test"
   ]
  },
  {
   "cell_type": "code",
   "execution_count": 89,
   "metadata": {},
   "outputs": [],
   "source": [
    "X = a.values\n",
    "#size = int(len(X) * 0.66)\n",
    "#train, test = X[0:size], X[size:len(X)]\n",
    "train=X[:]\n",
    "history = [x for x in train]\n",
    "predictions = list()"
   ]
  },
  {
   "cell_type": "code",
   "execution_count": 90,
   "metadata": {},
   "outputs": [
    {
     "name": "stdout",
     "output_type": "stream",
     "text": [
      "2016-01-31 00:00:00 [ 1053572.32880851]\n",
      "2016-02-29 00:00:00 [ 1047377.40539722]\n",
      "2016-03-31 00:00:00 [ 1053323.5554696]\n",
      "2016-04-30 00:00:00 [ 1048017.27682439]\n",
      "2016-05-31 00:00:00 [ 1053572.32880851]\n",
      "2016-06-30 00:00:00 [ 1046320.52064424]\n",
      "2016-07-31 00:00:00 [ 1049225.5895819]\n",
      "2016-08-31 00:00:00 [ 1046265.25660919]\n"
     ]
    },
    {
     "name": "stderr",
     "output_type": "stream",
     "text": [
      "/Library/Python/2.7/site-packages/statsmodels/base/model.py:496: ConvergenceWarning: Maximum Likelihood optimization failed to converge. Check mle_retvals\n",
      "  \"Check mle_retvals\", ConvergenceWarning)\n"
     ]
    },
    {
     "name": "stdout",
     "output_type": "stream",
     "text": [
      "2016-09-30 00:00:00 [ 1051235.88780989]\n",
      "2016-10-31 00:00:00 [ 1052755.75565769]\n",
      "2016-11-30 00:00:00 [ 1046493.69707016]\n",
      "2016-12-31 00:00:00 [ 1047424.99946116]\n",
      "Test MSE: 93540517380.933\n"
     ]
    },
    {
     "name": "stderr",
     "output_type": "stream",
     "text": [
      "/Library/Python/2.7/site-packages/statsmodels/base/model.py:496: ConvergenceWarning: Maximum Likelihood optimization failed to converge. Check mle_retvals\n",
      "  \"Check mle_retvals\", ConvergenceWarning)\n"
     ]
    },
    {
     "data": {
      "image/png": "[encoded data removed]",
      "text/plain": [
       "<matplotlib.figure.Figure at 0x1123efbd0>"
      ]
     },
     "metadata": {},
     "output_type": "display_data"
    }
   ],
   "source": [
    "for t in range(len(test)):\n",
    "    model = ARIMA(history, order=(5,1,0))\n",
    "    model_fit = model.fit(disp=0)\n",
    "    output = model_fit.forecast()\n",
    "    yhat = output[0]\n",
    "    predictions.append(yhat)\n",
    "    obs = test[t]\n",
    "    print yhat\n",
    "    #history.append(obs)\n",
    "    #print('predicted=%f, expected=%f' % (yhat, obs))\n",
    "#error = mean_squared_error(test, predictions)\n",
    "print('Test MSE: %.3f' % error)\n",
    "# plot\n",
    "plt.plot(test)\n",
    "plt.plot(predictions, color='red')\n",
    "plt.show()"
   ]
  },
  {
   "cell_type": "code",
   "execution_count": 93,
   "metadata": {},
   "outputs": [
    {
     "data": {
      "text/plain": [
       "0.673993620688111"
      ]
     },
     "execution_count": 93,
     "metadata": {},
     "output_type": "execute_result"
    }
   ],
   "source": [
    "1053572.000/1563178.000"
   ]
  },
  {
   "cell_type": "code",
   "execution_count": null,
   "metadata": {},
   "outputs": [],
   "source": []
  }
 ],
 "metadata": {
  "kernelspec": {
   "display_name": "Python 2",
   "language": "python",
   "name": "python2"
  },
  "language_info": {
   "codemirror_mode": {
    "name": "ipython",
    "version": 2
   },
   "file_extension": ".py",
   "mimetype": "text/x-python",
   "name": "python",
   "nbconvert_exporter": "python",
   "pygments_lexer": "ipython2",
   "version": "2.7.10"
  }
 },
 "nbformat": 4,
 "nbformat_minor": 2
}
