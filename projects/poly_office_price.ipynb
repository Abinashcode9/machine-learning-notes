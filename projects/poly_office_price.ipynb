{
 "cells": [
  {
   "cell_type": "code",
   "execution_count": 1,
   "metadata": {},
   "outputs": [],
   "source": [
    "import numpy as np\n",
    "import pandas as pd\n",
    "import matplotlib.pyplot as plt\n",
    "%matplotlib inline"
   ]
  },
  {
   "cell_type": "code",
   "execution_count": 2,
   "metadata": {},
   "outputs": [],
   "source": [
    "data = np.array([[0.44, 0.68, 511.14], [0.99, 0.23, 717.1], [0.84, 0.29, 607.91], [0.28, 0.45, 270.4], [0.07, 0.83, 289.88], [0.66, 0.8, 830.85], [0.73, 0.92, 1038.09], [0.57, 0.43, 455.19], [0.43, 0.89, 640.17], [0.27, 0.95, 511.06], [0.43, 0.06, 177.03], [0.87, 0.91, 1242.52], [0.78, 0.69, 891.37], [0.9, 0.94, 1339.72], [0.41, 0.06, 169.88], [0.52, 0.17, 276.05], [0.47, 0.66, 517.43], [0.65, 0.43, 522.25], [0.85, 0.64, 932.21], [0.93, 0.44, 851.25], [0.41, 0.93, 640.11], [0.36, 0.43, 308.68], [0.78, 0.85, 1046.05], [0.69, 0.07, 332.4], [0.04, 0.52, 171.85], [0.17, 0.15, 109.55], [0.68, 0.13, 361.97], [0.84, 0.6, 872.21], [0.38, 0.4, 303.7], [0.12, 0.65, 256.38], [0.62, 0.17, 341.2], [0.79, 0.97, 1194.63], [0.82, 0.04, 408.6], [0.91, 0.53, 895.54], [0.35, 0.85, 518.25], [0.57, 0.69, 638.75], [0.52, 0.22, 301.9], [0.31, 0.15, 163.38], [0.6, 0.02, 240.77], [0.99, 0.91, 1449.05], [0.48, 0.76, 609.0], [0.3, 0.19, 174.59], [0.58, 0.62, 593.45], [0.65, 0.17, 355.96], [0.6, 0.69, 671.46], [0.95, 0.76, 1193.7], [0.47, 0.23, 278.88], [0.15, 0.96, 411.4], [0.01, 0.03, 42.08], [0.26, 0.23, 166.19], [0.01, 0.11, 58.62], [0.45, 0.87, 642.45], [0.09, 0.97, 368.14], [0.96, 0.25, 702.78], [0.63, 0.58, 615.74], [0.06, 0.42, 143.79], [0.1, 0.24, 109.0], [0.26, 0.62, 328.28], [0.41, 0.15, 205.16], [0.91, 0.95, 1360.49], [0.83, 0.64, 905.83], [0.44, 0.64, 487.33], [0.2, 0.4, 202.76], [0.43, 0.12, 202.01], [0.21, 0.22, 148.87], [0.88, 0.4, 745.3], [0.31, 0.87, 503.04], [0.99, 0.99, 1563.82], [0.23, 0.26, 165.21], [0.79, 0.12, 438.4], [0.02, 0.28, 98.47], [0.89, 0.48, 819.63], [0.02, 0.56, 174.44], [0.92, 0.03, 483.13], [0.72, 0.34, 534.24], [0.3, 0.99, 572.31], [0.86, 0.66, 957.61], [0.47, 0.65, 518.29], [0.79, 0.94, 1143.49], [0.82, 0.96, 1211.31], [0.9, 0.42, 784.74], [0.19, 0.62, 283.7], [0.7, 0.57, 684.38], [0.7, 0.61, 719.46], [0.69, 0.0, 292.23], [0.98, 0.3, 775.68], [0.3, 0.08, 130.77], [0.85, 0.49, 801.6], [0.73, 0.01, 323.55], [1.0, 0.23, 726.9], [0.42, 0.94, 661.12], [0.49, 0.98, 771.11], [0.89, 0.68, 1016.14], [0.22, 0.46, 237.69], [0.34, 0.5, 325.89], [0.99, 0.13, 636.22], [0.28, 0.46, 272.12], [0.87, 0.36, 696.65], [0.23, 0.87, 434.53], [0.77, 0.36, 593.86]])"
   ]
  },
  {
   "cell_type": "code",
   "execution_count": 3,
   "metadata": {},
   "outputs": [
    {
     "data": {
      "text/plain": [
       "array([[  4.40000000e-01,   6.80000000e-01,   5.11140000e+02],\n",
       "       [  9.90000000e-01,   2.30000000e-01,   7.17100000e+02],\n",
       "       [  8.40000000e-01,   2.90000000e-01,   6.07910000e+02],\n",
       "       [  2.80000000e-01,   4.50000000e-01,   2.70400000e+02],\n",
       "       [  7.00000000e-02,   8.30000000e-01,   2.89880000e+02]])"
      ]
     },
     "execution_count": 3,
     "metadata": {},
     "output_type": "execute_result"
    }
   ],
   "source": [
    "data[:5]"
   ]
  },
  {
   "cell_type": "code",
   "execution_count": 4,
   "metadata": {},
   "outputs": [],
   "source": [
    "df=pd.DataFrame(data=data[:,:])\n",
    "#data[1:,0]"
   ]
  },
  {
   "cell_type": "code",
   "execution_count": 5,
   "metadata": {},
   "outputs": [
    {
     "data": {
      "text/html": [
       "<div>\n",
       "<table border=\"1\" class=\"dataframe\">\n",
       "  <thead>\n",
       "    <tr style=\"text-align: right;\">\n",
       "      <th></th>\n",
       "      <th>0</th>\n",
       "      <th>1</th>\n",
       "      <th>2</th>\n",
       "    </tr>\n",
       "  </thead>\n",
       "  <tbody>\n",
       "    <tr>\n",
       "      <th>0</th>\n",
       "      <td>0.44</td>\n",
       "      <td>0.68</td>\n",
       "      <td>511.14</td>\n",
       "    </tr>\n",
       "    <tr>\n",
       "      <th>1</th>\n",
       "      <td>0.99</td>\n",
       "      <td>0.23</td>\n",
       "      <td>717.10</td>\n",
       "    </tr>\n",
       "    <tr>\n",
       "      <th>2</th>\n",
       "      <td>0.84</td>\n",
       "      <td>0.29</td>\n",
       "      <td>607.91</td>\n",
       "    </tr>\n",
       "    <tr>\n",
       "      <th>3</th>\n",
       "      <td>0.28</td>\n",
       "      <td>0.45</td>\n",
       "      <td>270.40</td>\n",
       "    </tr>\n",
       "    <tr>\n",
       "      <th>4</th>\n",
       "      <td>0.07</td>\n",
       "      <td>0.83</td>\n",
       "      <td>289.88</td>\n",
       "    </tr>\n",
       "  </tbody>\n",
       "</table>\n",
       "</div>"
      ],
      "text/plain": [
       "      0     1       2\n",
       "0  0.44  0.68  511.14\n",
       "1  0.99  0.23  717.10\n",
       "2  0.84  0.29  607.91\n",
       "3  0.28  0.45  270.40\n",
       "4  0.07  0.83  289.88"
      ]
     },
     "execution_count": 5,
     "metadata": {},
     "output_type": "execute_result"
    }
   ],
   "source": [
    "df.head()"
   ]
  },
  {
   "cell_type": "code",
   "execution_count": 13,
   "metadata": {},
   "outputs": [
    {
     "data": {
      "text/plain": [
       "<matplotlib.collections.PathCollection at 0x10f823b10>"
      ]
     },
     "execution_count": 13,
     "metadata": {},
     "output_type": "execute_result"
    },
    {
     "data": {
      "image/png": "[encoded data removed]",
      "text/plain": [
       "<matplotlib.figure.Figure at 0x10ef675d0>"
      ]
     },
     "metadata": {},
     "output_type": "display_data"
    }
   ],
   "source": [
    "plt.scatter(df['feature1'],df['feature2'])"
   ]
  },
  {
   "cell_type": "markdown",
   "metadata": {},
   "source": [
    "# Applying Polynomial Regression"
   ]
  },
  {
   "cell_type": "code",
   "execution_count": 18,
   "metadata": {},
   "outputs": [],
   "source": [
    "X = df.iloc[:, 0:2].values\n",
    "y = df.iloc[:, 2].values"
   ]
  },
  {
   "cell_type": "code",
   "execution_count": 39,
   "metadata": {},
   "outputs": [
    {
     "data": {
      "text/plain": [
       "(100, 2)"
      ]
     },
     "execution_count": 39,
     "metadata": {},
     "output_type": "execute_result"
    }
   ],
   "source": [
    "X.shape"
   ]
  },
  {
   "cell_type": "code",
   "execution_count": 40,
   "metadata": {},
   "outputs": [
    {
     "data": {
      "text/plain": [
       "(100,)"
      ]
     },
     "execution_count": 40,
     "metadata": {},
     "output_type": "execute_result"
    }
   ],
   "source": [
    "y.shape"
   ]
  },
  {
   "cell_type": "code",
   "execution_count": 21,
   "metadata": {},
   "outputs": [],
   "source": [
    "from sklearn.linear_model import LinearRegression"
   ]
  },
  {
   "cell_type": "code",
   "execution_count": 53,
   "metadata": {},
   "outputs": [
    {
     "data": {
      "text/plain": [
       "LinearRegression(copy_X=True, fit_intercept=True, n_jobs=1, normalize=False)"
      ]
     },
     "execution_count": 53,
     "metadata": {},
     "output_type": "execute_result"
    }
   ],
   "source": [
    "from sklearn.preprocessing import PolynomialFeatures\n",
    "poly_reg = PolynomialFeatures(degree = 3)\n",
    "X_poly = poly_reg.fit_transform(X)\n",
    "poly_reg.fit(X_poly, y)\n",
    "lin_reg_2 = LinearRegression()\n",
    "lin_reg_2.fit(X_poly, y)"
   ]
  },
  {
   "cell_type": "code",
   "execution_count": 54,
   "metadata": {},
   "outputs": [
    {
     "data": {
      "text/plain": [
       "100"
      ]
     },
     "execution_count": 54,
     "metadata": {},
     "output_type": "execute_result"
    }
   ],
   "source": [
    "len(y)"
   ]
  },
  {
   "cell_type": "code",
   "execution_count": 55,
   "metadata": {},
   "outputs": [],
   "source": [
    "t=np.array([[0.05,0.54]])\n",
    "#test=test.reshape(1,-1)"
   ]
  },
  {
   "cell_type": "code",
   "execution_count": 56,
   "metadata": {},
   "outputs": [
    {
     "data": {
      "text/plain": [
       "array([ 180.37682443])"
      ]
     },
     "execution_count": 56,
     "metadata": {},
     "output_type": "execute_result"
    }
   ],
   "source": [
    "lin_reg_2.predict(poly_reg.fit_transform(t))"
   ]
  },
  {
   "cell_type": "code",
   "execution_count": 57,
   "metadata": {},
   "outputs": [
    {
     "name": "stdout",
     "output_type": "stream",
     "text": [
      "4\n"
     ]
    }
   ],
   "source": [
    "exp=int(raw_input())"
   ]
  },
  {
   "cell_type": "code",
   "execution_count": 58,
   "metadata": {},
   "outputs": [
    {
     "ename": "NameError",
     "evalue": "name 'n' is not defined",
     "output_type": "error",
     "traceback": [
      "\u001b[0;31m---------------------------------------------------------------------------\u001b[0m",
      "\u001b[0;31mNameError\u001b[0m                                 Traceback (most recent call last)",
      "\u001b[0;32m<ipython-input-58-24ad02d21481>\u001b[0m in \u001b[0;36m<module>\u001b[0;34m()\u001b[0m\n\u001b[1;32m      1\u001b[0m \u001b[0mtar\u001b[0m\u001b[0;34m=\u001b[0m\u001b[0;34m[\u001b[0m\u001b[0;34m]\u001b[0m\u001b[0;34m\u001b[0m\u001b[0m\n\u001b[0;32m----> 2\u001b[0;31m \u001b[0;32mfor\u001b[0m \u001b[0m_\u001b[0m \u001b[0;32min\u001b[0m \u001b[0mxrange\u001b[0m\u001b[0;34m(\u001b[0m\u001b[0mn\u001b[0m\u001b[0;34m)\u001b[0m\u001b[0;34m:\u001b[0m\u001b[0;34m\u001b[0m\u001b[0m\n\u001b[0m\u001b[1;32m      3\u001b[0m     \u001b[0mtar\u001b[0m\u001b[0;34m.\u001b[0m\u001b[0mappend\u001b[0m\u001b[0;34m(\u001b[0m\u001b[0mmap\u001b[0m\u001b[0;34m(\u001b[0m\u001b[0mfloat\u001b[0m\u001b[0;34m,\u001b[0m\u001b[0mraw_input\u001b[0m\u001b[0;34m(\u001b[0m\u001b[0;34m)\u001b[0m\u001b[0;34m.\u001b[0m\u001b[0mstrip\u001b[0m\u001b[0;34m(\u001b[0m\u001b[0;34m)\u001b[0m\u001b[0;34m.\u001b[0m\u001b[0msplit\u001b[0m\u001b[0;34m(\u001b[0m\u001b[0;34m)\u001b[0m\u001b[0;34m)\u001b[0m\u001b[0;34m)\u001b[0m\u001b[0;34m\u001b[0m\u001b[0m\n",
      "\u001b[0;31mNameError\u001b[0m: name 'n' is not defined"
     ]
    }
   ],
   "source": [
    "tar=[]\n",
    "for _ in xrange(exp):\n",
    "    tar.append(map(float,raw_input().strip().split()))\n"
   ]
  },
  {
   "cell_type": "code",
   "execution_count": null,
   "metadata": {},
   "outputs": [],
   "source": [
    "t=np.array(tar)\n",
    "for i in lin_reg_2.predict(poly_reg.fit_transform(t)):\n",
    "    print round(i,2)"
   ]
  }
 ],
 "metadata": {
  "kernelspec": {
   "display_name": "Python 2",
   "language": "python",
   "name": "python2"
  },
  "language_info": {
   "codemirror_mode": {
    "name": "ipython",
    "version": 2
   },
   "file_extension": ".py",
   "mimetype": "text/x-python",
   "name": "python",
   "nbconvert_exporter": "python",
   "pygments_lexer": "ipython2",
   "version": "2.7.10"
  }
 },
 "nbformat": 4,
 "nbformat_minor": 2
}
